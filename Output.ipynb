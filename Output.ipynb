{
 "cells": [
  {
   "cell_type": "code",
   "execution_count": 2,
   "id": "a18137c2",
   "metadata": {},
   "outputs": [
    {
     "name": "stdout",
     "output_type": "stream",
     "text": [
      "Họ và tên: Nguyễn Thành Nam\n"
     ]
    }
   ],
   "source": [
    "print(\"Họ và tên: Nguyễn Thành Nam\")\n"
   ]
  },
  {
   "cell_type": "code",
   "execution_count": 3,
   "id": "fd939b4a",
   "metadata": {},
   "outputs": [
    {
     "name": "stdout",
     "output_type": "stream",
     "text": [
      "Ngày sinh: 03-10-2000\n"
     ]
    }
   ],
   "source": [
    "print(\"Ngày sinh: 03-10-2000\")"
   ]
  },
  {
   "cell_type": "code",
   "execution_count": 4,
   "id": "2c172170",
   "metadata": {},
   "outputs": [
    {
     "name": "stdout",
     "output_type": "stream",
     "text": [
      "Hà Nội\n"
     ]
    }
   ],
   "source": [
    "print(\"Hà Nội\")"
   ]
  },
  {
   "cell_type": "code",
   "execution_count": null,
   "id": "4bc6c26f",
   "metadata": {},
   "outputs": [],
   "source": []
  }
 ],
 "metadata": {
  "kernelspec": {
   "display_name": "Python 3 (ipykernel)",
   "language": "python",
   "name": "python3"
  },
  "language_info": {
   "codemirror_mode": {
    "name": "ipython",
    "version": 3
   },
   "file_extension": ".py",
   "mimetype": "text/x-python",
   "name": "python",
   "nbconvert_exporter": "python",
   "pygments_lexer": "ipython3",
   "version": "3.9.7"
  }
 },
 "nbformat": 4,
 "nbformat_minor": 5
}
